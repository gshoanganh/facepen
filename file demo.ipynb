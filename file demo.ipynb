{
 "cells": [
  {
   "cell_type": "code",
   "execution_count": 4,
   "id": "b6f2f4f1",
   "metadata": {},
   "outputs": [],
   "source": [
    "import os"
   ]
  },
  {
   "cell_type": "code",
   "execution_count": 6,
   "id": "973955a9",
   "metadata": {},
   "outputs": [],
   "source": [
    "CUSTOM_MODEL_NAME = 'my_ssd_mobnet' "
   ]
  },
  {
   "cell_type": "code",
   "execution_count": 13,
   "id": "d6b4e941",
   "metadata": {},
   "outputs": [],
   "source": [
    "paths = {\n",
    "    'IMAGE_TEST': os.path.join('Tensorflow','workspace','images','test'),\n",
    "    'WORKSPACE_PATH': os.path.join('Tensorflow', 'workspace'),\n",
    "    'SCRIPTS_PATH': os.path.join('Tensorflow','scripts'),\n",
    "    'APIMODEL_PATH': os.path.join('Tensorflow','models'),\n",
    "    'ANNOTATION_PATH': os.path.join('Tensorflow', 'workspace','annotations'),\n",
    "    'IMAGE_PATH': os.path.join('Tensorflow', 'workspace','images'),\n",
    "    'MODEL_PATH': os.path.join('Tensorflow', 'workspace','models'),\n",
    "    'PRETRAINED_MODEL_PATH': os.path.join('Tensorflow', 'workspace','pre-trained-models'),\n",
    "    'CHECKPOINT_PATH': os.path.join('Tensorflow', 'workspace','models',CUSTOM_MODEL_NAME), \n",
    "    'OUTPUT_PATH': os.path.join('Tensorflow', 'workspace','models',CUSTOM_MODEL_NAME, 'export'), \n",
    "    'TFJS_PATH':os.path.join('Tensorflow', 'workspace','models',CUSTOM_MODEL_NAME, 'tfjsexport'), \n",
    "    'TFLITE_PATH':os.path.join('Tensorflow', 'workspace','models',CUSTOM_MODEL_NAME, 'tfliteexport'), \n",
    "    'PROTOC_PATH':os.path.join('Tensorflow','protoc')\n",
    " }"
   ]
  },
  {
   "cell_type": "code",
   "execution_count": 14,
   "id": "4b9f7773",
   "metadata": {},
   "outputs": [
    {
     "data": {
      "text/plain": [
       "{'IMAGE_TEST': 'Tensorflow/workspace/images/test',\n",
       " 'WORKSPACE_PATH': 'Tensorflow/workspace',\n",
       " 'SCRIPTS_PATH': 'Tensorflow/scripts',\n",
       " 'APIMODEL_PATH': 'Tensorflow/models',\n",
       " 'ANNOTATION_PATH': 'Tensorflow/workspace/annotations',\n",
       " 'IMAGE_PATH': 'Tensorflow/workspace/images',\n",
       " 'MODEL_PATH': 'Tensorflow/workspace/models',\n",
       " 'PRETRAINED_MODEL_PATH': 'Tensorflow/workspace/pre-trained-models',\n",
       " 'CHECKPOINT_PATH': 'Tensorflow/workspace/models/my_ssd_mobnet',\n",
       " 'OUTPUT_PATH': 'Tensorflow/workspace/models/my_ssd_mobnet/export',\n",
       " 'TFJS_PATH': 'Tensorflow/workspace/models/my_ssd_mobnet/tfjsexport',\n",
       " 'TFLITE_PATH': 'Tensorflow/workspace/models/my_ssd_mobnet/tfliteexport',\n",
       " 'PROTOC_PATH': 'Tensorflow/protoc'}"
      ]
     },
     "execution_count": 14,
     "metadata": {},
     "output_type": "execute_result"
    }
   ],
   "source": [
    "paths"
   ]
  },
  {
   "cell_type": "code",
   "execution_count": 15,
   "id": "d55dcf21",
   "metadata": {},
   "outputs": [],
   "source": [
    "files = {\n",
    "    'PIPELINE_CONFIG':os.path.join('Tensorflow', 'workspace','models', CUSTOM_MODEL_NAME, 'pipeline.config'), \n",
    "}"
   ]
  },
  {
   "cell_type": "code",
   "execution_count": 16,
   "id": "8211195d",
   "metadata": {},
   "outputs": [
    {
     "data": {
      "text/plain": [
       "{'PIPELINE_CONFIG': 'Tensorflow/workspace/models/my_ssd_mobnet/pipeline.config'}"
      ]
     },
     "execution_count": 16,
     "metadata": {},
     "output_type": "execute_result"
    }
   ],
   "source": [
    "files"
   ]
  },
  {
   "cell_type": "code",
   "execution_count": 17,
   "id": "ed07dfc0",
   "metadata": {},
   "outputs": [
    {
     "name": "stdout",
     "output_type": "stream",
     "text": [
      "test\n"
     ]
    }
   ],
   "source": [
    "basename_without_ext = os.path.splitext(os.path.basename(paths['IMAGE_TEST']))[0]\n",
    "print(basename_without_ext)"
   ]
  },
  {
   "cell_type": "code",
   "execution_count": 19,
   "id": "8b7384cd",
   "metadata": {},
   "outputs": [
    {
     "data": {
      "text/plain": [
       "['classes.txt',\n",
       " 'pen.2299d8da-a58e-11ec-91c2-48bf6be79752.jpg',\n",
       " 'phone.2a9e1ece-a58e-11ec-91c2-48bf6be79752.jpg',\n",
       " 'pen.215a300a-a58e-11ec-91c2-48bf6be79752.txt',\n",
       " 'phone.295d7794-a58e-11ec-91c2-48bf6be79752.txt',\n",
       " 'pen.1d9d9542-a58e-11ec-91c2-48bf6be79752.xml',\n",
       " 'pen.1d9d9542-a58e-11ec-91c2-48bf6be79752.jpg',\n",
       " 'pen.2299d8da-a58e-11ec-91c2-48bf6be79752.txt',\n",
       " 'pen.215a300a-a58e-11ec-91c2-48bf6be79752.jpg',\n",
       " 'phone.2a9e1ece-a58e-11ec-91c2-48bf6be79752.txt',\n",
       " 'face.19564290-a58e-11ec-91c2-48bf6be79752.xml',\n",
       " 'face.19564290-a58e-11ec-91c2-48bf6be79752.jpg',\n",
       " 'phone.295d7794-a58e-11ec-91c2-48bf6be79752.jpg',\n",
       " 'face.16cfc474-a58e-11ec-91c2-48bf6be79752.jpg',\n",
       " 'face.16cfc474-a58e-11ec-91c2-48bf6be79752.xml',\n",
       " 'face.14346bfc-a58e-11ec-91c2-48bf6be79752.jpg',\n",
       " 'face.14346bfc-a58e-11ec-91c2-48bf6be79752.xml',\n",
       " 'pen.201d77ce-a58e-11ec-91c2-48bf6be79752.jpg',\n",
       " 'phone.2bdf3f7a-a58e-11ec-91c2-48bf6be79752.jpg',\n",
       " 'phone.26e5c2f0-a58e-11ec-91c2-48bf6be79752.txt',\n",
       " 'phone.2bdf3f7a-a58e-11ec-91c2-48bf6be79752.txt',\n",
       " 'pen.201d77ce-a58e-11ec-91c2-48bf6be79752.txt',\n",
       " 'phone.26e5c2f0-a58e-11ec-91c2-48bf6be79752.jpg',\n",
       " 'pen.1ede124c-a58e-11ec-91c2-48bf6be79752.xml',\n",
       " 'pen.1ede124c-a58e-11ec-91c2-48bf6be79752.jpg']"
      ]
     },
     "execution_count": 19,
     "metadata": {},
     "output_type": "execute_result"
    }
   ],
   "source": [
    "files = []\n",
    "for name in os.listdir(paths['IMAGE_TEST']):\n",
    "    if os.path.isfile(os.path.join(paths['IMAGE_TEST'], name)):\n",
    "        files.append(name)\n",
    "files"
   ]
  },
  {
   "cell_type": "code",
   "execution_count": null,
   "id": "9102a8f3",
   "metadata": {},
   "outputs": [],
   "source": []
  }
 ],
 "metadata": {
  "kernelspec": {
   "display_name": "tfod",
   "language": "python",
   "name": "tfod"
  },
  "language_info": {
   "codemirror_mode": {
    "name": "ipython",
    "version": 3
   },
   "file_extension": ".py",
   "mimetype": "text/x-python",
   "name": "python",
   "nbconvert_exporter": "python",
   "pygments_lexer": "ipython3",
   "version": "3.8.7"
  }
 },
 "nbformat": 4,
 "nbformat_minor": 5
}
